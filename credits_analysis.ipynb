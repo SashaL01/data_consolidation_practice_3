{
 "cells": [
  {
   "cell_type": "markdown",
   "metadata": {},
   "source": [
    "# Практическая работа 3: Анализ данных interest payments for bank client\n",
    "\n",
    "## Задание \n",
    "**Цель:** calculate interest payment for client:\n",
    "- **Файл 1 (CSV):** client (client_id, age, credit_score)\n",
    "- **Файл 2 (Excel):** credit (client_id, credit_amount)\n",
    "- **Файл 3 (JSON):** percent (credit_score_range, interest_rate)\n",
    "\n",
    "## Библиотеки и подключения\n"
   ]
  },
  {
   "cell_type": "code",
   "execution_count": 1,
   "metadata": {},
   "outputs": [
    {
     "name": "stdout",
     "output_type": "stream",
     "text": [
      "✓ Библиотеки загружены\n"
     ]
    }
   ],
   "source": [
    "import pandas as pd\n",
    "import numpy as np\n",
    "import matplotlib.pyplot as plt\n",
    "import seaborn as sns\n",
    "import plotly.express as px\n",
    "import plotly.graph_objects as go\n",
    "from plotly.subplots import make_subplots\n",
    "import json\n",
    "import warnings\n",
    "warnings.filterwarnings('ignore')\n",
    "\n",
    "# Настройка стиля графиков\n",
    "plt.style.use('seaborn-v0_8')\n",
    "sns.set_palette(\"husl\")\n",
    "plt.rcParams['figure.figsize'] = (12, 8)\n",
    "plt.rcParams['font.size'] = 12\n",
    "\n",
    "print(\"✓ Библиотеки загружены\")\n"
   ]
  },
  {
   "cell_type": "markdown",
   "metadata": {},
   "source": [
    "## 1. Загрузка данных из различных источников\n"
   ]
  },
  {
   "cell_type": "code",
   "execution_count": 7,
   "metadata": {},
   "outputs": [
    {
     "name": "stdout",
     "output_type": "stream",
     "text": [
      "Данные об авиакомпаниях (CSV):\n",
      "Форма данных: (1000, 3)\n",
      "     client_id  age  credit_score\n",
      "0  client00001   58           214\n",
      "1  client00002   19           381\n",
      "2  client00003   33           328\n",
      "3  client00004   26           204\n",
      "4  client00005   61           658\n",
      "\n",
      "==================================================\n",
      "\n"
     ]
    }
   ],
   "source": [
    "# Загрузка данных об авиакомпаниях (CSV)\n",
    "df_client = pd.read_csv('data/client.csv')\n",
    "print(\"Данные об авиакомпаниях (CSV):\")\n",
    "print(f\"Форма данных: {df_client.shape}\")\n",
    "print(df_client.head())\n",
    "print(\"\\n\" + \"=\"*50 + \"\\n\")\n"
   ]
  },
  {
   "cell_type": "code",
   "execution_count": 8,
   "metadata": {},
   "outputs": [
    {
     "name": "stdout",
     "output_type": "stream",
     "text": [
      "Данные о рейсах (Excel):\n",
      "Форма данных: (1000, 2)\n",
      "     client_id  credit_amount\n",
      "0  client00001         239722\n",
      "1  client00002         273232\n",
      "2  client00003         222114\n",
      "3  client00004         287592\n",
      "4  client00005          89749\n",
      "\n",
      "==================================================\n",
      "\n"
     ]
    }
   ],
   "source": [
    "# Загрузка данных о рейсах (Excel)\n",
    "df_credits = pd.read_excel('data/credits.xlsx')\n",
    "print(\"Данные о рейсах (Excel):\")\n",
    "print(f\"Форма данных: {df_credits.shape}\")\n",
    "print(df_credits.head())\n",
    "print(\"\\n\" + \"=\"*50 + \"\\n\")\n"
   ]
  },
  {
   "cell_type": "code",
   "execution_count": 15,
   "metadata": {},
   "outputs": [
    {
     "name": "stdout",
     "output_type": "stream",
     "text": [
      "Данные о rates (JSON):\n",
      "Форма данных: (5, 2)\n",
      "  credit_score_range  interest_rate\n",
      "0            100-300          20.35\n",
      "1            300-500          13.62\n",
      "2            500-700           9.81\n",
      "3            700-800           6.74\n",
      "4            800-850           2.35\n",
      "\n",
      "==================================================\n",
      "\n"
     ]
    }
   ],
   "source": [
    "# Загрузка данных о билетах (JSON)\n",
    "with open('data/rates.json', 'r', encoding='utf-8') as f:\n",
    "    rates_data = json.load(f)\n",
    "\n",
    "df_rates = pd.DataFrame(rates_data)\n",
    "print(\"Данные о rates (JSON):\")\n",
    "print(f\"Форма данных: {df_rates.shape}\")\n",
    "print(df_rates.head())\n",
    "print(\"\\n\" + \"=\"*50 + \"\\n\")\n"
   ]
  },
  {
   "cell_type": "markdown",
   "metadata": {},
   "source": [
    "## 2. Консолидация данных и расчет выручки\n"
   ]
  },
  {
   "cell_type": "code",
   "execution_count": 19,
   "metadata": {},
   "outputs": [],
   "source": [
    "# Объединение всех данных\n",
    "# Шаг 1: Объединение рейсов с билетами\n",
    "df = pd.merge(df_client, df_credits, on='client_id', how='inner')\n",
    "\n"
   ]
  },
  {
   "cell_type": "code",
   "execution_count": 20,
   "metadata": {},
   "outputs": [
    {
     "name": "stdout",
     "output_type": "stream",
     "text": [
      "     client_id  age  credit_score  credit_amount  interest_rate\n",
      "0  client00001   58           214         239722          20.35\n",
      "1  client00002   19           381         273232          13.62\n",
      "2  client00003   33           328         222114          13.62\n",
      "3  client00004   26           204         287592          20.35\n",
      "4  client00005   61           658          89749           9.81\n"
     ]
    }
   ],
   "source": [
    "#dobavlayem procentnyu stavky podhodashyu pod credit_score\n",
    "def find_rate(score):\n",
    "    for r in df_rates.itertuples(index=False):\n",
    "        low, high = map(int, r.credit_score_range.split('-'))\n",
    "        if low <=score <= high:\n",
    "            return r.interest_rate\n",
    "\n",
    "df['interest_rate'] = df['credit_score'].apply(find_rate)\n",
    "print(df.head())\n"
   ]
  },
  {
   "cell_type": "code",
   "execution_count": 21,
   "metadata": {},
   "outputs": [
    {
     "data": {
      "text/html": [
       "<div>\n",
       "<style scoped>\n",
       "    .dataframe tbody tr th:only-of-type {\n",
       "        vertical-align: middle;\n",
       "    }\n",
       "\n",
       "    .dataframe tbody tr th {\n",
       "        vertical-align: top;\n",
       "    }\n",
       "\n",
       "    .dataframe thead th {\n",
       "        text-align: right;\n",
       "    }\n",
       "</style>\n",
       "<table border=\"1\" class=\"dataframe\">\n",
       "  <thead>\n",
       "    <tr style=\"text-align: right;\">\n",
       "      <th></th>\n",
       "      <th>client_id</th>\n",
       "      <th>age</th>\n",
       "      <th>credit_score</th>\n",
       "      <th>credit_amount</th>\n",
       "      <th>interest_rate</th>\n",
       "    </tr>\n",
       "  </thead>\n",
       "  <tbody>\n",
       "    <tr>\n",
       "      <th>0</th>\n",
       "      <td>client00001</td>\n",
       "      <td>58</td>\n",
       "      <td>214</td>\n",
       "      <td>239722</td>\n",
       "      <td>20.35</td>\n",
       "    </tr>\n",
       "    <tr>\n",
       "      <th>1</th>\n",
       "      <td>client00002</td>\n",
       "      <td>19</td>\n",
       "      <td>381</td>\n",
       "      <td>273232</td>\n",
       "      <td>13.62</td>\n",
       "    </tr>\n",
       "    <tr>\n",
       "      <th>2</th>\n",
       "      <td>client00003</td>\n",
       "      <td>33</td>\n",
       "      <td>328</td>\n",
       "      <td>222114</td>\n",
       "      <td>13.62</td>\n",
       "    </tr>\n",
       "    <tr>\n",
       "      <th>3</th>\n",
       "      <td>client00004</td>\n",
       "      <td>26</td>\n",
       "      <td>204</td>\n",
       "      <td>287592</td>\n",
       "      <td>20.35</td>\n",
       "    </tr>\n",
       "    <tr>\n",
       "      <th>4</th>\n",
       "      <td>client00005</td>\n",
       "      <td>61</td>\n",
       "      <td>658</td>\n",
       "      <td>89749</td>\n",
       "      <td>9.81</td>\n",
       "    </tr>\n",
       "  </tbody>\n",
       "</table>\n",
       "</div>"
      ],
      "text/plain": [
       "     client_id  age  credit_score  credit_amount  interest_rate\n",
       "0  client00001   58           214         239722          20.35\n",
       "1  client00002   19           381         273232          13.62\n",
       "2  client00003   33           328         222114          13.62\n",
       "3  client00004   26           204         287592          20.35\n",
       "4  client00005   61           658          89749           9.81"
      ]
     },
     "execution_count": 21,
     "metadata": {},
     "output_type": "execute_result"
    }
   ],
   "source": [
    "df.head()"
   ]
  },
  {
   "cell_type": "code",
   "execution_count": 23,
   "metadata": {},
   "outputs": [
    {
     "data": {
      "text/html": [
       "<div>\n",
       "<style scoped>\n",
       "    .dataframe tbody tr th:only-of-type {\n",
       "        vertical-align: middle;\n",
       "    }\n",
       "\n",
       "    .dataframe tbody tr th {\n",
       "        vertical-align: top;\n",
       "    }\n",
       "\n",
       "    .dataframe thead th {\n",
       "        text-align: right;\n",
       "    }\n",
       "</style>\n",
       "<table border=\"1\" class=\"dataframe\">\n",
       "  <thead>\n",
       "    <tr style=\"text-align: right;\">\n",
       "      <th></th>\n",
       "      <th>client_id</th>\n",
       "      <th>age</th>\n",
       "      <th>credit_score</th>\n",
       "      <th>credit_amount</th>\n",
       "      <th>interest_rate</th>\n",
       "      <th>annual_interest_payment</th>\n",
       "    </tr>\n",
       "  </thead>\n",
       "  <tbody>\n",
       "    <tr>\n",
       "      <th>0</th>\n",
       "      <td>client00001</td>\n",
       "      <td>58</td>\n",
       "      <td>214</td>\n",
       "      <td>239722</td>\n",
       "      <td>20.35</td>\n",
       "      <td>48783.4</td>\n",
       "    </tr>\n",
       "    <tr>\n",
       "      <th>1</th>\n",
       "      <td>client00002</td>\n",
       "      <td>19</td>\n",
       "      <td>381</td>\n",
       "      <td>273232</td>\n",
       "      <td>13.62</td>\n",
       "      <td>37214.2</td>\n",
       "    </tr>\n",
       "    <tr>\n",
       "      <th>2</th>\n",
       "      <td>client00003</td>\n",
       "      <td>33</td>\n",
       "      <td>328</td>\n",
       "      <td>222114</td>\n",
       "      <td>13.62</td>\n",
       "      <td>30251.9</td>\n",
       "    </tr>\n",
       "    <tr>\n",
       "      <th>3</th>\n",
       "      <td>client00004</td>\n",
       "      <td>26</td>\n",
       "      <td>204</td>\n",
       "      <td>287592</td>\n",
       "      <td>20.35</td>\n",
       "      <td>58525.0</td>\n",
       "    </tr>\n",
       "    <tr>\n",
       "      <th>4</th>\n",
       "      <td>client00005</td>\n",
       "      <td>61</td>\n",
       "      <td>658</td>\n",
       "      <td>89749</td>\n",
       "      <td>9.81</td>\n",
       "      <td>8804.4</td>\n",
       "    </tr>\n",
       "  </tbody>\n",
       "</table>\n",
       "</div>"
      ],
      "text/plain": [
       "     client_id  age  credit_score  credit_amount  interest_rate  \\\n",
       "0  client00001   58           214         239722          20.35   \n",
       "1  client00002   19           381         273232          13.62   \n",
       "2  client00003   33           328         222114          13.62   \n",
       "3  client00004   26           204         287592          20.35   \n",
       "4  client00005   61           658          89749           9.81   \n",
       "\n",
       "   annual_interest_payment  \n",
       "0                  48783.4  \n",
       "1                  37214.2  \n",
       "2                  30251.9  \n",
       "3                  58525.0  \n",
       "4                   8804.4  "
      ]
     },
     "execution_count": 23,
     "metadata": {},
     "output_type": "execute_result"
    }
   ],
   "source": [
    "#calculate annual interest payment \n",
    "# annual interest payment = credit_amount * interest_rate\n",
    "\n",
    "df['annual_interest_payment'] = (df['credit_amount']*df['interest_rate']/100).round(1)\n",
    "df.head()"
   ]
  },
  {
   "cell_type": "markdown",
   "metadata": {},
   "source": [
    "## 3. Визуализация результатов\n"
   ]
  },
  {
   "cell_type": "code",
   "execution_count": 26,
   "metadata": {},
   "outputs": [
    {
     "data": {
      "image/png": "[encoded data removed]",
      "text/plain": [
       "<Figure size 1400x800 with 1 Axes>"
      ]
     },
     "metadata": {},
     "output_type": "display_data"
    }
   ],
   "source": [
    "# График 1: Общая выручка авиакомпаний\n",
    "plt.figure(figsize=(14, 8))\n",
    "sns.histplot(df['annual_interest_payment'], bins = 30 ,color ='blue')\n",
    "plt.title(\"raspredelenie godovogo procentnogo platesha\")\n",
    "plt.xlabel('annual_interest_payment')\n",
    "plt.ylabel('client count')\n",
    "plt.show()"
   ]
  },
  {
   "cell_type": "code",
   "execution_count": 29,
   "metadata": {},
   "outputs": [
    {
     "data": {
      "image/png": "[encoded data removed]",
      "text/plain": [
       "<Figure size 1400x800 with 1 Axes>"
      ]
     },
     "metadata": {},
     "output_type": "display_data"
    }
   ],
   "source": [
    "# График 2: raspredelenie vozrastnyh group\n",
    "bins = [18,25,40,60,80]\n",
    "labels = ['18-25 young','25-40 adult','40-60 middle','60-80 elderly']\n",
    "df['age_group'] = pd.cut(df['age'],bins=bins,labels=labels,include_lowest=True)\n",
    "\n",
    "age_count = df['age_group'].value_counts().sort_index()\n",
    "\n",
    "plt.figure(figsize=(14,8))\n",
    "sns.barplot(x=age_count.index, y=age_count.values)\n",
    "plt.title(\"count client by age group \")\n",
    "plt.xlabel(\"age group\")\n",
    "plt.ylabel(\"client count\")\n",
    "plt.show()"
   ]
  },
  {
   "cell_type": "code",
   "execution_count": 37,
   "metadata": {},
   "outputs": [
    {
     "data": {
      "image/png": "[encoded data removed]",
      "text/plain": [
       "<Figure size 1400x800 with 1 Axes>"
      ]
     },
     "metadata": {},
     "output_type": "display_data"
    }
   ],
   "source": [
    "# График 3:  \n",
    "#create credit rating category\n",
    "bins = [100,300,500,850]\n",
    "labels = ['low','middle','high']\n",
    "df['credit_category'] = pd.cut(df['credit_score'], bins = bins, labels=labels,right= False)\n",
    "\n",
    "#calculate client count in every category\n",
    "credit_counts = df['credit_category'].value_counts().sort_index()\n",
    "# krygovay diagramma diapozon creditnogo reytinga\n",
    "plt.figure(figsize=(14,8))\n",
    "plt.pie(credit_counts,labels=credit_counts.index,autopct='%1.1f%%',startangle=140,colors=plt.cm.Set3.colors)\n",
    "plt.title(\"client distribution by credit rating\")\n",
    "plt.show()"
   ]
  },
  {
   "cell_type": "markdown",
   "metadata": {},
   "source": [
    "## 4. Выводы и сохранение результатов\n"
   ]
  },
  {
   "cell_type": "code",
   "execution_count": 39,
   "metadata": {},
   "outputs": [
    {
     "name": "stdout",
     "output_type": "stream",
     "text": [
      "ОСНОВНЫЕ ВЫВОДЫ АНАЛИЗА\n",
      "==================================================\n",
      "1. client with the biggest credit: client00474\n",
      "   - sum credit: 994,253 руб.\n",
      "\n",
      "2. total sum credit: 207,428,358 руб.\n",
      "3. client count: 1000\n",
      "4. average client credit  : 207,428 руб.\n",
      "   average credit rating: 476\n",
      "\n",
      "5. top-3 client by sum rating:\n",
      "   1. client client00474: 994,253 rub. (credit rating: 779)\n",
      "   2. client client00866: 989,587 rub. (credit rating: 791)\n",
      "   3. client client00146: 986,982 rub. (credit rating: 789)\n",
      "\n",
      "==================================================\n",
      "✓ Результаты сохранены в папке 'data/'\n",
      "✓ Анализ завершен успешно!\n"
     ]
    }
   ],
   "source": [
    "# Формирование выводов и сохранение результатов\n",
    "print(\"ОСНОВНЫЕ ВЫВОДЫ АНАЛИЗА\")\n",
    "print(\"=\" * 50)\n",
    "\n",
    "# 1. client with max credit limit\n",
    "top_client_idx = df['credit_amount'].idxmax()\n",
    "top_client_id = df.loc[top_client_idx, 'client_id']\n",
    "top_credit_amount = df.loc[top_client_idx, 'credit_amount']\n",
    "\n",
    "print(f\"1. client with the biggest credit: {top_client_id}\")\n",
    "print(f\"   - sum credit: {top_credit_amount:,.0f} руб.\")\n",
    "\n",
    "# 2. total sum credit\n",
    "total_credit_amount = df['credit_amount'].sum()\n",
    "print(f\"\\n2. total sum credit: {total_credit_amount:,.0f} руб.\")\n",
    "\n",
    "# 3. client count \n",
    "total_clients = df['client_id'].nunique()\n",
    "print(f\"3. client count: {total_clients}\")\n",
    "\n",
    "# 4. average client credit and average credit rating\n",
    "average_credit = df['credit_amount'].mean()\n",
    "average_score = df['credit_score'].mean()\n",
    "print(f\"4. average client credit  : {average_credit:,.0f} руб.\")\n",
    "print(f\"   average credit rating: {average_score:.0f}\")\n",
    "\n",
    "# 5. top-3 clients by credit sum\n",
    "top_clients = df.nlargest(3, 'credit_amount')\n",
    "print(\"\\n5. top-3 client by sum rating:\")\n",
    "for i, row in enumerate(top_clients.itertuples(), 1):\n",
    "    print(f\"   {i}. client {row.client_id}: {row.credit_amount:,.0f} rub. (credit rating: {row.credit_score})\")\n",
    "\n",
    "\n",
    "df.to_csv('data/client_data_consolidated.csv', index=False)\n",
    "print(\"\\n\" + \"=\" * 50)\n",
    "print(\"✓ Результаты сохранены в папке 'data/'\")\n",
    "print(\"✓ Анализ завершен успешно!\")"
   ]
  },
  {
   "cell_type": "code",
   "execution_count": null,
   "metadata": {},
   "outputs": [],
   "source": []
  }
 ],
 "metadata": {
  "kernelspec": {
   "display_name": "Python 3 (ipykernel)",
   "language": "python",
   "name": "python3"
  },
  "language_info": {
   "codemirror_mode": {
    "name": "ipython",
    "version": 3
   },
   "file_extension": ".py",
   "mimetype": "text/x-python",
   "name": "python",
   "nbconvert_exporter": "python",
   "pygments_lexer": "ipython3",
   "version": "3.11.6"
  }
 },
 "nbformat": 4,
 "nbformat_minor": 4
}
